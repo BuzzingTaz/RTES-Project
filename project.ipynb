{
 "cells": [
  {
   "cell_type": "code",
   "execution_count": 2,
   "metadata": {},
   "outputs": [],
   "source": [
    "import numpy as np\n",
    "import matplotlib.pyplot as plt"
   ]
  },
  {
   "cell_type": "code",
   "execution_count": 3,
   "metadata": {},
   "outputs": [],
   "source": [
    "class Task():\n",
    "    def __init__(self, period, execution_time, deadline ):\n",
    "        self.period = period\n",
    "        self.execution_time = execution_time\n",
    "        self.deadline = deadline\n",
    "        self.priority = None\n",
    "\n",
    "    def __repr__(self) -> str:\n",
    "        return \"Task: \" +  str(self.period) +\" \" + str(self.execution_time) + \" \" + str(self.deadline) + \" \" + str(self.priority)\n",
    "\n",
    "class TaskSet():\n",
    "\n",
    "    def __init__(self, n, ut, min_period, max_period):\n",
    "        self.n = n\n",
    "        self.ut = ut\n",
    "        self.min_period = min_period\n",
    "        self.max_period = max_period\n",
    "        self.tasks = None\n",
    "\n",
    "    def generate(self):\n",
    "        self.utilities = self.uunifastdiscard()\n",
    "        if self.utilities is None:\n",
    "            print(\"Failed to generate taskset with given parameters\")\n",
    "            return False\n",
    "\n",
    "        self.periods = self.periods_generation()\n",
    "        self.execution_time = self.execution_times()\n",
    "        self.deadline = self.task_deadlines()\n",
    "\n",
    "        self.tasks = []\n",
    "        for i in range(self.n):\n",
    "            self.tasks.append(Task(self.periods[i],self.execution_time[i],self.deadline[i]))\n",
    "        return True\n",
    "        \n",
    "\n",
    "    def uunifastdiscard(self,discard_limit = 1000):\n",
    "        sumu = self.ut\n",
    "        for j in range(discard_limit):\n",
    "            utilities = []\n",
    "            for i in range(self.n-1):\n",
    "                nextsumu = sumu*(np.random.random()**(1/(self.n-i+1)))\n",
    "                utilities.append(sumu - nextsumu)\n",
    "                sumu = nextsumu\n",
    "\n",
    "            utilities.append(sumu)\n",
    "\n",
    "            if all(ut <= 1 for ut in utilities):\n",
    "                return np.array(utilities)\n",
    "            else:\n",
    "                sumu = self.ut\n",
    "\n",
    "        return None\n",
    "    \n",
    "    def periods_generation(self):\n",
    "        periods = np.ceil(np.exp(np.random.uniform(low=np.log(self.min_period), high=np.log(self.max_period),size=(self.n))))\n",
    "        return periods\n",
    "    \n",
    "    def execution_times(self):\n",
    "        return np.ceil(self.utilities * self.periods)\n",
    "    \n",
    "    def task_deadlines(self):\n",
    "        deadline = []\n",
    "        for i in range(len(self.execution_time)):\n",
    "            deadline.append(np.random.uniform(low = self.execution_time[i] , high = self.periods[i]))\n",
    "\n",
    "        return np.floor(np.array(deadline))\n",
    "\n",
    "            \n"
   ]
  },
  {
   "cell_type": "code",
   "execution_count": 4,
   "metadata": {},
   "outputs": [
    {
     "name": "stdout",
     "output_type": "stream",
     "text": [
      "[Task: 23.0 1.0 4.0 None, Task: 23.0 2.0 3.0 None, Task: 97.0 1.0 17.0 None, Task: 11.0 1.0 10.0 None, Task: 51.0 4.0 26.0 None, Task: 21.0 3.0 8.0 None, Task: 91.0 10.0 20.0 None, Task: 24.0 1.0 20.0 None, Task: 18.0 3.0 17.0 None, Task: 64.0 2.0 25.0 None, Task: 12.0 1.0 3.0 None, Task: 36.0 1.0 9.0 None, Task: 71.0 5.0 23.0 None, Task: 24.0 2.0 23.0 None, Task: 74.0 2.0 18.0 None, Task: 21.0 1.0 13.0 None, Task: 71.0 3.0 18.0 None, Task: 35.0 1.0 1.0 None, Task: 27.0 1.0 13.0 None, Task: 14.0 2.0 9.0 None]\n"
     ]
    }
   ],
   "source": [
    "cores = 4\n",
    "taskset = TaskSet(cores*5,1,10,100)\n",
    "\n",
    "taskset.generate()\n",
    "print(taskset.tasks)"
   ]
  },
  {
   "cell_type": "code",
   "execution_count": 5,
   "metadata": {},
   "outputs": [],
   "source": [
    "def DMPO(set):\n",
    "    set.sort(key = lambda x:x.deadline)"
   ]
  },
  {
   "cell_type": "code",
   "execution_count": 6,
   "metadata": {},
   "outputs": [],
   "source": [
    "def D_CMPO(taskset):\n",
    "    taskset.sort(key = lambda x:x.deadline - x.execution_time)"
   ]
  },
  {
   "cell_type": "code",
   "execution_count": 7,
   "metadata": {},
   "outputs": [],
   "source": [
    "def DkC(taskset,m):\n",
    "    k = ((m - 1) + np.sqrt(5*m**2 - 6*m + 1))/(2*m)\n",
    "    taskset.sort(key = lambda x:x.deadline - k*x.execution_time)    "
   ]
  },
  {
   "cell_type": "code",
   "execution_count": 8,
   "metadata": {},
   "outputs": [
    {
     "name": "stdout",
     "output_type": "stream",
     "text": [
      "[Task: 35.0 1.0 1.0 None, Task: 23.0 2.0 3.0 None, Task: 12.0 1.0 3.0 None, Task: 23.0 1.0 4.0 None, Task: 21.0 3.0 8.0 None, Task: 36.0 1.0 9.0 None, Task: 14.0 2.0 9.0 None, Task: 11.0 1.0 10.0 None, Task: 21.0 1.0 13.0 None, Task: 27.0 1.0 13.0 None, Task: 97.0 1.0 17.0 None, Task: 18.0 3.0 17.0 None, Task: 74.0 2.0 18.0 None, Task: 71.0 3.0 18.0 None, Task: 91.0 10.0 20.0 None, Task: 24.0 1.0 20.0 None, Task: 71.0 5.0 23.0 None, Task: 24.0 2.0 23.0 None, Task: 64.0 2.0 25.0 None, Task: 51.0 4.0 26.0 None]\n"
     ]
    }
   ],
   "source": [
    "DMPO(taskset.tasks)\n",
    "print(taskset.tasks)"
   ]
  },
  {
   "cell_type": "code",
   "execution_count": 9,
   "metadata": {},
   "outputs": [
    {
     "name": "stdout",
     "output_type": "stream",
     "text": [
      "[Task: 35.0 1.0 1.0 None, Task: 23.0 2.0 3.0 None, Task: 12.0 1.0 3.0 None, Task: 23.0 1.0 4.0 None, Task: 21.0 3.0 8.0 None, Task: 14.0 2.0 9.0 None, Task: 36.0 1.0 9.0 None, Task: 11.0 1.0 10.0 None, Task: 91.0 10.0 20.0 None, Task: 21.0 1.0 13.0 None, Task: 27.0 1.0 13.0 None, Task: 18.0 3.0 17.0 None, Task: 71.0 3.0 18.0 None, Task: 97.0 1.0 17.0 None, Task: 74.0 2.0 18.0 None, Task: 71.0 5.0 23.0 None, Task: 24.0 1.0 20.0 None, Task: 24.0 2.0 23.0 None, Task: 51.0 4.0 26.0 None, Task: 64.0 2.0 25.0 None]\n"
     ]
    }
   ],
   "source": [
    "D_CMPO(taskset.tasks)\n",
    "print(taskset.tasks)"
   ]
  },
  {
   "cell_type": "code",
   "execution_count": 10,
   "metadata": {},
   "outputs": [
    {
     "name": "stdout",
     "output_type": "stream",
     "text": [
      "[Task: 35.0 1.0 1.0 None, Task: 23.0 2.0 3.0 None, Task: 12.0 1.0 3.0 None, Task: 23.0 1.0 4.0 None, Task: 21.0 3.0 8.0 None, Task: 14.0 2.0 9.0 None, Task: 91.0 10.0 20.0 None, Task: 36.0 1.0 9.0 None, Task: 11.0 1.0 10.0 None, Task: 21.0 1.0 13.0 None, Task: 27.0 1.0 13.0 None, Task: 18.0 3.0 17.0 None, Task: 71.0 3.0 18.0 None, Task: 74.0 2.0 18.0 None, Task: 97.0 1.0 17.0 None, Task: 71.0 5.0 23.0 None, Task: 24.0 1.0 20.0 None, Task: 24.0 2.0 23.0 None, Task: 51.0 4.0 26.0 None, Task: 64.0 2.0 25.0 None]\n"
     ]
    }
   ],
   "source": [
    "DkC(taskset.tasks,cores)\n",
    "print(taskset.tasks)"
   ]
  },
  {
   "cell_type": "code",
   "execution_count": 104,
   "metadata": {},
   "outputs": [],
   "source": [
    "def OPA(taskset, cores, S_test):\n",
    "    N = len(taskset)\n",
    "\n",
    "    assigned_tasks = []\n",
    "\n",
    "    taskset_copy = taskset.copy()\n",
    "\n",
    "    priority_assigned = [False] * N\n",
    "\n",
    "    for i in range(N-1,-1,-1):\n",
    "\n",
    "        for j,task in enumerate(taskset_copy):\n",
    "\n",
    "            if not priority_assigned[j]:\n",
    "                if(S_test(assigned_tasks + [task],cores)):\n",
    "                    task.priority = i\n",
    "                    priority_assigned[j] = True\n",
    "                    assigned_tasks.append(task)\n",
    "                    break\n",
    "        else:\n",
    "            return False\n",
    "            return taskset_copy,(i)/N*100\n",
    "    return True\n",
    "    return taskset_copy,100"
   ]
  },
  {
   "cell_type": "code",
   "execution_count": 101,
   "metadata": {},
   "outputs": [],
   "source": [
    "def deadline_analysis_OPA(ptaskset,m):    #taskset = {period,execution time,deadline}\n",
    "    Ck = ptaskset[-1].execution_time\n",
    "    Dk = ptaskset[-1].deadline\n",
    "    l = Dk\n",
    "    total_workload = 0\n",
    "\n",
    "    for task in ptaskset[:-1]:\n",
    "        Ti,Ci,Di = task.period,task.execution_time,task.deadline\n",
    "        max_jobs = np.floor(( l + Di - Ci )/Ti)\n",
    "        workload_task = max_jobs*Ci + min(Ci,l + Di - Ci - max_jobs*Ti)\n",
    "        workload_task = min(workload_task,Dk - Ck + 1)\n",
    "        total_workload += workload_task\n",
    "\n",
    "    thresh = Ck + np.floor(total_workload/m)\n",
    "    if Dk < thresh:\n",
    "        return 0\n",
    "    return 1"
   ]
  },
  {
   "cell_type": "code",
   "execution_count": 83,
   "metadata": {},
   "outputs": [],
   "source": [
    "def deadline_analysis(ptaskset,m):    #taskset = {period,execution time,deadline}\n",
    "    num_tasks = len(ptaskset)\n",
    "    cleared = 0\n",
    "    for k in range(num_tasks):\n",
    "        \n",
    "        total_workload = 0\n",
    "        Ck,Dk = ptaskset[k].execution_time,ptaskset[k].deadline\n",
    "        l = Dk\n",
    "        for i in range(k):\n",
    "            Ti,Ci,Di = ptaskset[i].period,ptaskset[i].execution_time,ptaskset[i].deadline\n",
    "            max_jobs = np.floor(( l + Di - Ci )/Ti)\n",
    "            workload_j = max_jobs*Ci + min(Ci,l + Di - Ci - max_jobs*Ti)\n",
    "            workload_j = min(workload_j,Dk - Ck+1)\n",
    "            total_workload += workload_j\n",
    "\n",
    "        thresh = Ck + np.floor(total_workload/m)\n",
    "        if Dk >= thresh:\n",
    "            cleared += 1\n",
    "\n",
    "    if cleared == num_tasks:\n",
    "        return True\n",
    "    else:\n",
    "        return False\n",
    "    return (cleared/num_tasks)*100"
   ]
  },
  {
   "cell_type": "code",
   "execution_count": 79,
   "metadata": {},
   "outputs": [],
   "source": [
    "def responsetimeanalysis(ptaskset,m):\n",
    "    num_tasks = len(ptaskset)\n",
    "    cleared = 0\n",
    "    for k in range(num_tasks):\n",
    "        Ck,Dk = ptaskset[k].execution_time,ptaskset[k].deadline\n",
    "        l = Dk\n",
    "        res = Ck\n",
    "        new_res = Ck + 10\n",
    "        if k == 1:\n",
    "            if res <= Dk:\n",
    "                continue\n",
    "            else:\n",
    "                return 0\n",
    "\n",
    "        while new_res - res > 0.7 and new_res <= Dk :\n",
    "\n",
    "            total_workload = 0\n",
    "            for i in range(k):\n",
    "                Ti,Ci = ptaskset[i].period,ptaskset[i].execution_time\n",
    "                max_jobs = np.floor(( l + res - Ci )/Ti)\n",
    "                workload_j = max_jobs*Ci + min(Ci,l + res - Ci - max_jobs*Ti)\n",
    "                workload_j = min(workload_j,res - Ck + 1)\n",
    "                total_workload += workload_j\n",
    "\n",
    "            new_res = Ck + np.floor(total_workload/m)\n",
    "\n",
    "        if new_res - res <= 0.7 and new_res <= Dk :\n",
    "            cleared += 1\n",
    "\n",
    "    return (cleared/num_tasks)*100"
   ]
  },
  {
   "cell_type": "code",
   "execution_count": 15,
   "metadata": {},
   "outputs": [
    {
     "name": "stdout",
     "output_type": "stream",
     "text": [
      "[Task: 16.0 1.0 10.0 None, Task: 70.0 1.0 65.0 None, Task: 38.0 1.0 4.0 None, Task: 78.0 3.0 50.0 None, Task: 31.0 2.0 10.0 None, Task: 13.0 1.0 5.0 None, Task: 55.0 1.0 46.0 None, Task: 66.0 2.0 52.0 None, Task: 26.0 1.0 12.0 None, Task: 66.0 3.0 4.0 None]\n"
     ]
    }
   ],
   "source": [
    "cores = 2\n",
    "set = TaskSet(cores*5,0.2,10,100)\n",
    "\n",
    "set.generate()\n",
    "print(set.tasks)"
   ]
  },
  {
   "cell_type": "code",
   "execution_count": 16,
   "metadata": {},
   "outputs": [
    {
     "name": "stdout",
     "output_type": "stream",
     "text": [
      "[Task: 16.0 1.0 10.0 9, Task: 70.0 1.0 65.0 8, Task: 38.0 1.0 4.0 7, Task: 78.0 3.0 50.0 6, Task: 31.0 2.0 10.0 5, Task: 13.0 1.0 5.0 4, Task: 55.0 1.0 46.0 3, Task: 66.0 2.0 52.0 2, Task: 26.0 1.0 12.0 1, Task: 66.0 3.0 4.0 None]\n",
      "90.0\n"
     ]
    }
   ],
   "source": [
    "ordered_tasks,i = OPA(set.tasks, cores, deadline_analysis_OPA)\n",
    "print(ordered_tasks)\n",
    "print(i)"
   ]
  },
  {
   "cell_type": "code",
   "execution_count": 37,
   "metadata": {},
   "outputs": [],
   "source": [
    "def generate_tasksets(n_tasksets, n_tasks, max_utility, min_period, max_period):\n",
    "    set_tasksets = []\n",
    "    for i in range(n_tasksets):\n",
    "        set = TaskSet(n_tasks,max_utility,min_period,max_period)\n",
    "        set.generate()\n",
    "        set_tasksets.append(set)\n",
    "    \n",
    "    return set_tasksets"
   ]
  },
  {
   "cell_type": "code",
   "execution_count": 105,
   "metadata": {},
   "outputs": [],
   "source": [
    "set_tasksets = []\n",
    "n_tasksets = 1000\n",
    "\n",
    "cores = 2\n",
    "n_tasks = 5*cores\n",
    "min_period = 10\n",
    "max_period = 1000\n",
    "us = np.arange(0.1,cores,0.1)\n",
    "\n",
    "\n",
    "percentage_schedulable_OPA = []\n",
    "percentage_schedulable_DMPO = []\n",
    "percentage_schedulable_D_CMPO = []\n",
    "percentage_schedulable_DkC = []\n",
    "for u in us:\n",
    "    percentage_OPA = 0\n",
    "    percentage_DCMPO = 0\n",
    "    percentage_DMPO = 0\n",
    "    percentage_DkC = 0\n",
    "    set_tasksets = generate_tasksets(n_tasksets, n_tasks, u, min_period, max_period)\n",
    "    for i in range(n_tasksets):\n",
    "        set = set_tasksets[i]\n",
    "        # ordered_tasks,percentage = OPA(set.tasks, cores, deadline_analysis_OPA)\n",
    "        # percentage_OPA += percentage\n",
    "        percentage_OPA += int(OPA(set.tasks, cores, deadline_analysis_OPA))\n",
    "        \n",
    "\n",
    "        set = set_tasksets[i]\n",
    "        DMPO(set.tasks)\n",
    "        # percentage_DMPO += deadline_analysis(set.tasks,cores)\n",
    "        percentage_DMPO += int(deadline_analysis(set.tasks,cores))\n",
    "\n",
    "        set = set_tasksets[i]\n",
    "        D_CMPO(set.tasks)\n",
    "        # percentage_DCMPO += deadline_analysis(set.tasks,cores)\n",
    "        percentage_DCMPO += int(deadline_analysis(set.tasks,cores))\n",
    "\n",
    "        set = set_tasksets[i]\n",
    "        DkC(set.tasks,cores)\n",
    "        # percentage_DkC += deadline_analysis(set.tasks,cores)\n",
    "        percentage_DkC += int(deadline_analysis(set.tasks,cores))\n",
    "\n",
    "    percentage_schedulable_OPA.append(percentage_OPA/n_tasksets)\n",
    "    percentage_schedulable_DMPO.append(percentage_DMPO/n_tasksets)\n",
    "    percentage_schedulable_D_CMPO.append(percentage_DCMPO/n_tasksets)\n",
    "    percentage_schedulable_DkC.append(percentage_DkC/n_tasksets)\n",
    "        \n"
   ]
  },
  {
   "cell_type": "code",
   "execution_count": 106,
   "metadata": {},
   "outputs": [
    {
     "data": {
      "text/plain": [
       "<matplotlib.legend.Legend at 0x245c8456ee0>"
      ]
     },
     "execution_count": 106,
     "metadata": {},
     "output_type": "execute_result"
    },
    {
     "data": {
      "image/png": "[encoded data removed]",
      "text/plain": [
       "<Figure size 432x288 with 1 Axes>"
      ]
     },
     "metadata": {
      "needs_background": "light"
     },
     "output_type": "display_data"
    }
   ],
   "source": [
    "plt.figure()\n",
    "plt.plot(us,percentage_schedulable_OPA,color='r',label='OPA')\n",
    "plt.plot(us,percentage_schedulable_DMPO,color='b',label='DMPO')\n",
    "plt.plot(us,percentage_schedulable_D_CMPO,color='g',label='D_CMPO')\n",
    "plt.plot(us,percentage_schedulable_DkC,color='y',label='DkC',linestyle='-')\n",
    "plt.legend()\n",
    "\n"
   ]
  },
  {
   "cell_type": "code",
   "execution_count": 66,
   "metadata": {},
   "outputs": [
    {
     "ename": "KeyboardInterrupt",
     "evalue": "",
     "output_type": "error",
     "traceback": [
      "\u001b[1;31m---------------------------------------------------------------------------\u001b[0m",
      "\u001b[1;31mKeyboardInterrupt\u001b[0m                         Traceback (most recent call last)",
      "\u001b[1;32md:\\IIIT\\UG3\\Courses\\RTES\\RTES-Project\\project.ipynb Cell 19\u001b[0m in \u001b[0;36m<cell line: 15>\u001b[1;34m()\u001b[0m\n\u001b[0;32m     <a href='vscode-notebook-cell:/d%3A/IIIT/UG3/Courses/RTES/RTES-Project/project.ipynb#X30sZmlsZQ%3D%3D?line=23'>24</a>\u001b[0m \u001b[39mset\u001b[39m \u001b[39m=\u001b[39m set_tasksets[i]\n\u001b[0;32m     <a href='vscode-notebook-cell:/d%3A/IIIT/UG3/Courses/RTES/RTES-Project/project.ipynb#X30sZmlsZQ%3D%3D?line=24'>25</a>\u001b[0m DMPO(\u001b[39mset\u001b[39m\u001b[39m.\u001b[39mtasks)\n\u001b[1;32m---> <a href='vscode-notebook-cell:/d%3A/IIIT/UG3/Courses/RTES/RTES-Project/project.ipynb#X30sZmlsZQ%3D%3D?line=25'>26</a>\u001b[0m percentage_DMPO \u001b[39m+\u001b[39m\u001b[39m=\u001b[39m responsetimeanalysis(\u001b[39mset\u001b[39;49m\u001b[39m.\u001b[39;49mtasks,cores)\n\u001b[0;32m     <a href='vscode-notebook-cell:/d%3A/IIIT/UG3/Courses/RTES/RTES-Project/project.ipynb#X30sZmlsZQ%3D%3D?line=27'>28</a>\u001b[0m \u001b[39mset\u001b[39m \u001b[39m=\u001b[39m set_tasksets[i]\n\u001b[0;32m     <a href='vscode-notebook-cell:/d%3A/IIIT/UG3/Courses/RTES/RTES-Project/project.ipynb#X30sZmlsZQ%3D%3D?line=28'>29</a>\u001b[0m D_CMPO(\u001b[39mset\u001b[39m\u001b[39m.\u001b[39mtasks)\n",
      "\u001b[1;32md:\\IIIT\\UG3\\Courses\\RTES\\RTES-Project\\project.ipynb Cell 19\u001b[0m in \u001b[0;36mresponsetimeanalysis\u001b[1;34m(ptaskset, m)\u001b[0m\n\u001b[0;32m     <a href='vscode-notebook-cell:/d%3A/IIIT/UG3/Courses/RTES/RTES-Project/project.ipynb#X30sZmlsZQ%3D%3D?line=18'>19</a>\u001b[0m Ti,Ci \u001b[39m=\u001b[39m ptaskset[i]\u001b[39m.\u001b[39mperiod,ptaskset[i]\u001b[39m.\u001b[39mexecution_time\n\u001b[0;32m     <a href='vscode-notebook-cell:/d%3A/IIIT/UG3/Courses/RTES/RTES-Project/project.ipynb#X30sZmlsZQ%3D%3D?line=19'>20</a>\u001b[0m max_jobs \u001b[39m=\u001b[39m np\u001b[39m.\u001b[39mfloor(( l \u001b[39m+\u001b[39m res \u001b[39m-\u001b[39m Ci )\u001b[39m/\u001b[39mTi)\n\u001b[1;32m---> <a href='vscode-notebook-cell:/d%3A/IIIT/UG3/Courses/RTES/RTES-Project/project.ipynb#X30sZmlsZQ%3D%3D?line=20'>21</a>\u001b[0m workload_j \u001b[39m=\u001b[39m max_jobs\u001b[39m*\u001b[39;49mCi \u001b[39m+\u001b[39m \u001b[39mmin\u001b[39m(Ci,l \u001b[39m+\u001b[39m res \u001b[39m-\u001b[39m Ci \u001b[39m-\u001b[39m max_jobs\u001b[39m*\u001b[39mTi)\n\u001b[0;32m     <a href='vscode-notebook-cell:/d%3A/IIIT/UG3/Courses/RTES/RTES-Project/project.ipynb#X30sZmlsZQ%3D%3D?line=21'>22</a>\u001b[0m workload_j \u001b[39m=\u001b[39m \u001b[39mmin\u001b[39m(workload_j,res \u001b[39m-\u001b[39m Ck \u001b[39m+\u001b[39m \u001b[39m1\u001b[39m)\n\u001b[0;32m     <a href='vscode-notebook-cell:/d%3A/IIIT/UG3/Courses/RTES/RTES-Project/project.ipynb#X30sZmlsZQ%3D%3D?line=22'>23</a>\u001b[0m total_workload \u001b[39m+\u001b[39m\u001b[39m=\u001b[39m workload_j\n",
      "\u001b[1;31mKeyboardInterrupt\u001b[0m: "
     ]
    }
   ],
   "source": [
    "set_tasksets = []\n",
    "n_tasksets = 1000\n",
    "\n",
    "cores = 2\n",
    "n_tasks = 5*cores\n",
    "min_period = 10\n",
    "max_period = 1000\n",
    "us = np.arange(0.1,2,0.1)\n",
    "\n",
    "\n",
    "percentage_schedulable_OPA = []\n",
    "percentage_schedulable_DMPO = []\n",
    "percentage_schedulable_D_CMPO = []\n",
    "percentage_schedulable_DkC = []\n",
    "for u in us:\n",
    "    percentage_OPA = 0\n",
    "    percentage_DCMPO = 0\n",
    "    percentage_DMPO = 0\n",
    "    percentage_DkC = 0\n",
    "    set_tasksets = generate_tasksets(n_tasksets, n_tasks, u, min_period, max_period)\n",
    "    for i in range(n_tasksets):\n",
    "        \n",
    "\n",
    "        set = set_tasksets[i]\n",
    "        DMPO(set.tasks)\n",
    "        percentage_DMPO += responsetimeanalysis(set.tasks,cores)\n",
    "\n",
    "        set = set_tasksets[i]\n",
    "        D_CMPO(set.tasks)\n",
    "        percentage_DCMPO += responsetimeanalysis(set.tasks,cores)\n",
    "\n",
    "        set = set_tasksets[i]\n",
    "        DkC(set.tasks,cores)\n",
    "        percentage_DkC += responsetimeanalysis(set.tasks,cores)\n",
    "\n",
    "    # percentage_schedulable_OPA.append(percentage_OPA/n_tasksets)\n",
    "    percentage_schedulable_DMPO.append(percentage_DMPO/n_tasksets)\n",
    "    percentage_schedulable_D_CMPO.append(percentage_DCMPO/n_tasksets)\n",
    "    percentage_schedulable_DkC.append(percentage_DkC/n_tasksets)\n",
    "        \n"
   ]
  },
  {
   "cell_type": "code",
   "execution_count": null,
   "metadata": {},
   "outputs": [],
   "source": [
    "plt.figure()\n",
    "# plt.plot(us,percentage_schedulable_OPA,color='r',label='OPA')\n",
    "plt.plot(us,percentage_schedulable_DMPO,color='b',label='DMPO')\n",
    "plt.plot(us,percentage_schedulable_D_CMPO,color='g',label='D_CMPO')\n",
    "plt.plot(us,percentage_schedulable_DkC,color='y',label='DkC',linestyle='-')\n",
    "plt.legend()\n",
    "\n"
   ]
  },
  {
   "cell_type": "code",
   "execution_count": null,
   "metadata": {},
   "outputs": [],
   "source": []
  }
 ],
 "metadata": {
  "kernelspec": {
   "display_name": "Python 3.10.8 64-bit",
   "language": "python",
   "name": "python3"
  },
  "language_info": {
   "codemirror_mode": {
    "name": "ipython",
    "version": 3
   },
   "file_extension": ".py",
   "mimetype": "text/x-python",
   "name": "python",
   "nbconvert_exporter": "python",
   "pygments_lexer": "ipython3",
   "version": "3.10.8"
  },
  "orig_nbformat": 4,
  "vscode": {
   "interpreter": {
    "hash": "7157a62e85b7b4197c3acc922ce8503cad50f92a7c60c9bc670f81ada39c5d0f"
   }
  }
 },
 "nbformat": 4,
 "nbformat_minor": 2
}
