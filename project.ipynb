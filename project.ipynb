{
 "cells": [
  {
   "cell_type": "code",
   "execution_count": 1,
   "metadata": {},
   "outputs": [],
   "source": [
    "import numpy as np"
   ]
  },
  {
   "cell_type": "code",
   "execution_count": 72,
   "metadata": {},
   "outputs": [],
   "source": [
    "class Task():\n",
    "    def __init__(self, period, execution_time, deadline ):\n",
    "        self.period = period\n",
    "        self.execution_time = execution_time\n",
    "        self.deadline = deadline\n",
    "        self.priority = None\n",
    "\n",
    "    def __repr__(self) -> str:\n",
    "        return \"Task: \" +  str(self.period) +\" \" + str(self.execution_time) + \" \" + str(self.deadline) + \" \" + str(self.priority)\n",
    "\n",
    "class taskset():\n",
    "\n",
    "    def __init__(self, n, ut, min_period, max_period):\n",
    "        self.n = n\n",
    "        self.ut = ut\n",
    "        self.min_period = min_period\n",
    "        self.max_period = max_period\n",
    "        self.tasks = None\n",
    "\n",
    "    def generate(self):\n",
    "        self.utilities = self.uunifastdiscard()\n",
    "        # if not self.utilities:\n",
    "        #     print(\"Failed to generate taskset with given parameters\")\n",
    "        #     return False\n",
    "\n",
    "        self.periods = self.periods_generation()\n",
    "        self.execution_time = self.execution_times()\n",
    "        self.deadline = self.task_deadlines()\n",
    "\n",
    "        self.tasks = []\n",
    "        for i in range(self.n):\n",
    "            self.tasks.append(Task(self.periods[i],self.execution_time[i],self.deadline[i]))\n",
    "        return True\n",
    "        \n",
    "\n",
    "\n",
    "    def uunifastdiscard(self,discard_limit = 1000):\n",
    "        sumu = self.ut\n",
    "        # for j in range(discard_limit):\n",
    "        while True:\n",
    "            utilities = []\n",
    "            for i in range(self.n-1):\n",
    "                nextsumu = sumu*(np.random.random()**(1/(self.n-i+1)))\n",
    "                utilities.append(sumu - nextsumu)\n",
    "                sumu = nextsumu\n",
    "\n",
    "            utilities.append(sumu)\n",
    "\n",
    "            if all(ut <= 1 for ut in utilities):\n",
    "                return np.array(utilities)\n",
    "            else:\n",
    "                sumu = self.ut\n",
    "\n",
    "        return False\n",
    "    \n",
    "    def periods_generation(self):\n",
    "        periods = np.ceil(np.exp(np.random.uniform(low=np.log(self.min_period), high=np.log(self.max_period),size=(self.n))))\n",
    "        return periods\n",
    "    \n",
    "    def execution_times(self):\n",
    "        return np.ceil(self.utilities * self.periods)\n",
    "    \n",
    "    def task_deadlines(self):\n",
    "        deadline = []\n",
    "        for i in range(len(self.execution_time)):\n",
    "            deadline.append(np.random.uniform(low = self.execution_time[i] , high = self.periods[i]))\n",
    "\n",
    "        return np.floor(np.array(deadline))\n",
    "\n",
    "            \n"
   ]
  },
  {
   "cell_type": "code",
   "execution_count": 84,
   "metadata": {},
   "outputs": [
    {
     "name": "stdout",
     "output_type": "stream",
     "text": [
      "[Task: 46.0 4.0 29.0 None, Task: 35.0 7.0 21.0 None, Task: 15.0 1.0 12.0 None, Task: 20.0 3.0 6.0 None, Task: 25.0 3.0 15.0 None, Task: 12.0 1.0 2.0 None, Task: 17.0 2.0 9.0 None, Task: 60.0 4.0 28.0 None, Task: 89.0 2.0 2.0 None, Task: 19.0 5.0 14.0 None]\n"
     ]
    }
   ],
   "source": [
    "cores = 2\n",
    "set = taskset(cores*5,1,10,100)\n",
    "\n",
    "set.generate()\n",
    "print(set.tasks)"
   ]
  },
  {
   "cell_type": "code",
   "execution_count": 116,
   "metadata": {},
   "outputs": [],
   "source": [
    "def DMPO(set):\n",
    "    set.sort(key = lambda x:x.deadline)"
   ]
  },
  {
   "cell_type": "code",
   "execution_count": 119,
   "metadata": {},
   "outputs": [
    {
     "name": "stdout",
     "output_type": "stream",
     "text": [
      "[Task: 48.0 1.0 6.0 None, Task: 19.0 2.0 7.0 None, Task: 21.0 1.0 10.0 None, Task: 19.0 1.0 10.0 None, Task: 37.0 9.0 15.0 None, Task: 25.0 1.0 17.0 None, Task: 32.0 11.0 22.0 None, Task: 31.0 3.0 29.0 0, Task: 46.0 7.0 29.0 None, Task: 81.0 4.0 36.0 None]\n"
     ]
    }
   ],
   "source": [
    "DMPO(set.tasks)\n",
    "print(set.tasks)"
   ]
  },
  {
   "cell_type": "code",
   "execution_count": 122,
   "metadata": {},
   "outputs": [
    {
     "ename": "TypeError",
     "evalue": "'Task' object is not subscriptable",
     "output_type": "error",
     "traceback": [
      "\u001b[1;31m---------------------------------------------------------------------------\u001b[0m",
      "\u001b[1;31mTypeError\u001b[0m                                 Traceback (most recent call last)",
      "\u001b[1;32md:\\IIIT\\UG3\\Courses\\RTES\\RTES-Project\\project.ipynb Cell 6\u001b[0m in \u001b[0;36m<cell line: 1>\u001b[1;34m()\u001b[0m\n\u001b[1;32m----> <a href='vscode-notebook-cell:/d%3A/IIIT/UG3/Courses/RTES/RTES-Project/project.ipynb#X15sZmlsZQ%3D%3D?line=0'>1</a>\u001b[0m deadline_analysis(\u001b[39mset\u001b[39;49m\u001b[39m.\u001b[39;49mtasks,\u001b[39m2\u001b[39;49m)\n",
      "\u001b[1;32md:\\IIIT\\UG3\\Courses\\RTES\\RTES-Project\\project.ipynb Cell 6\u001b[0m in \u001b[0;36mdeadline_analysis\u001b[1;34m(ptaskset, m)\u001b[0m\n\u001b[0;32m      <a href='vscode-notebook-cell:/d%3A/IIIT/UG3/Courses/RTES/RTES-Project/project.ipynb#X15sZmlsZQ%3D%3D?line=2'>3</a>\u001b[0m \u001b[39mfor\u001b[39;00m i \u001b[39min\u001b[39;00m \u001b[39mrange\u001b[39m(num_tasks):\n\u001b[0;32m      <a href='vscode-notebook-cell:/d%3A/IIIT/UG3/Courses/RTES/RTES-Project/project.ipynb#X15sZmlsZQ%3D%3D?line=3'>4</a>\u001b[0m     total_workload \u001b[39m=\u001b[39m \u001b[39m0\u001b[39m\n\u001b[1;32m----> <a href='vscode-notebook-cell:/d%3A/IIIT/UG3/Courses/RTES/RTES-Project/project.ipynb#X15sZmlsZQ%3D%3D?line=4'>5</a>\u001b[0m     ei,di \u001b[39m=\u001b[39m ptaskset[i][\u001b[39m1\u001b[39;49m],ptaskset[i][\u001b[39m2\u001b[39m]\n\u001b[0;32m      <a href='vscode-notebook-cell:/d%3A/IIIT/UG3/Courses/RTES/RTES-Project/project.ipynb#X15sZmlsZQ%3D%3D?line=5'>6</a>\u001b[0m     l \u001b[39m=\u001b[39m di\n\u001b[0;32m      <a href='vscode-notebook-cell:/d%3A/IIIT/UG3/Courses/RTES/RTES-Project/project.ipynb#X15sZmlsZQ%3D%3D?line=6'>7</a>\u001b[0m     \u001b[39mfor\u001b[39;00m j \u001b[39min\u001b[39;00m \u001b[39mrange\u001b[39m(i):\n",
      "\u001b[1;31mTypeError\u001b[0m: 'Task' object is not subscriptable"
     ]
    }
   ],
   "source": [
    "deadline_analysis(set.tasks,2)"
   ]
  },
  {
   "cell_type": "code",
   "execution_count": 159,
   "metadata": {},
   "outputs": [],
   "source": [
    "def OPA(taskset, cores, S_test):\n",
    "    N = len(taskset)\n",
    "\n",
    "    assigned_tasks = []\n",
    "\n",
    "    taskset_copy = taskset.copy()\n",
    "\n",
    "    priority_assigned = [False] * N\n",
    "\n",
    "    for i in range(N-1,-1,-1):\n",
    "\n",
    "        for j,task in enumerate(taskset_copy):\n",
    "\n",
    "            if task.priority == None:\n",
    "                if(S_test(assigned_tasks + [task],cores)):\n",
    "                    task.priority = i\n",
    "                    priority_assigned[j] = True\n",
    "                    assigned_tasks.append(task)\n",
    "                    break\n",
    "        else:\n",
    "            return taskset_copy,i\n",
    "    \n",
    "    return taskset_copy,i"
   ]
  },
  {
   "cell_type": "code",
   "execution_count": 120,
   "metadata": {},
   "outputs": [],
   "source": [
    "def deadline_analysis(ptaskset,m):    #taskset = {period,execution time,deadline}\n",
    "    num_tasks = len(ptaskset)\n",
    "    for i in range(num_tasks):\n",
    "        total_workload = 0\n",
    "        ei,di = ptaskset[i][1],ptaskset[i][2]\n",
    "        l = di\n",
    "        for j in range(i):\n",
    "            pj,ej,dj = ptaskset[j][0],ptaskset[j][1],ptaskset[j][2]\n",
    "            max_jobs = np.floor(( l + dj - ej )/pj)\n",
    "            workload_j = max_jobs*ej + min(ej,l + dj - ej - max_jobs*pj)\n",
    "            workload_j = min(workload_j,di - ei + 1)\n",
    "            total_workload += workload_j\n",
    "\n",
    "        thresh = ei + np.floor(total_workload/m)\n",
    "        if di < thresh:\n",
    "            return 0\n",
    "    return 1"
   ]
  },
  {
   "cell_type": "code",
   "execution_count": 125,
   "metadata": {},
   "outputs": [],
   "source": [
    "def deadline_analysis_OPA(ptaskset,m):    #taskset = {period,execution time,deadline}\n",
    "    Ck = ptaskset[-1].execution_time\n",
    "    Dk = ptaskset[-1].deadline\n",
    "    l = Dk\n",
    "    total_workload = 0\n",
    "\n",
    "    for task in ptaskset[:-1]:\n",
    "        Ti,Ci,Di = task.period,task.execution_time,task.deadline\n",
    "        max_jobs = np.floor(( l + Di - Ci )/Ti)\n",
    "        workload_task = max_jobs*Ci + min(Ci,l + Di - Ci - max_jobs*Ti)\n",
    "        workload_task = min(workload_task,Dk - Ck + 1)\n",
    "        total_workload += workload_task\n",
    "\n",
    "        thresh = Ck + np.floor(total_workload/m)\n",
    "        if Dk < thresh:\n",
    "            return 0\n",
    "    return 1"
   ]
  },
  {
   "cell_type": "code",
   "execution_count": 160,
   "metadata": {},
   "outputs": [
    {
     "name": "stdout",
     "output_type": "stream",
     "text": [
      "[Task: 28.0 1.0 14.0 None, Task: 40.0 1.0 15.0 None, Task: 74.0 1.0 28.0 None, Task: 14.0 1.0 6.0 None, Task: 16.0 1.0 12.0 None, Task: 73.0 1.0 46.0 None, Task: 19.0 1.0 6.0 None, Task: 22.0 1.0 20.0 None, Task: 69.0 1.0 61.0 None, Task: 27.0 3.0 12.0 None]\n"
     ]
    }
   ],
   "source": [
    "cores = 2\n",
    "set = taskset(cores*5,0.2,10,100)\n",
    "\n",
    "set.generate()\n",
    "print(set.tasks)"
   ]
  },
  {
   "cell_type": "code",
   "execution_count": 161,
   "metadata": {},
   "outputs": [
    {
     "name": "stdout",
     "output_type": "stream",
     "text": [
      "[Task: 28.0 1.0 14.0 9, Task: 40.0 1.0 15.0 8, Task: 74.0 1.0 28.0 7, Task: 14.0 1.0 6.0 6, Task: 16.0 1.0 12.0 5, Task: 73.0 1.0 46.0 4, Task: 19.0 1.0 6.0 3, Task: 22.0 1.0 20.0 2, Task: 69.0 1.0 61.0 1, Task: 27.0 3.0 12.0 0]\n",
      "0\n"
     ]
    }
   ],
   "source": [
    "ordered_tasks,i = OPA(set.tasks, cores, deadline_analysis_OPA)\n",
    "print(ordered_tasks)\n",
    "print(i)"
   ]
  },
  {
   "cell_type": "code",
   "execution_count": 96,
   "metadata": {},
   "outputs": [
    {
     "name": "stdout",
     "output_type": "stream",
     "text": [
      "8\n"
     ]
    }
   ],
   "source": []
  }
 ],
 "metadata": {
  "kernelspec": {
   "display_name": "Python 3.9.0 64-bit",
   "language": "python",
   "name": "python3"
  },
  "language_info": {
   "codemirror_mode": {
    "name": "ipython",
    "version": 3
   },
   "file_extension": ".py",
   "mimetype": "text/x-python",
   "name": "python",
   "nbconvert_exporter": "python",
   "pygments_lexer": "ipython3",
   "version": "3.9.0"
  },
  "orig_nbformat": 4,
  "vscode": {
   "interpreter": {
    "hash": "eef920dd73cd3ef78477e8ab32607aaeccce0de781c75bf88db90c589e446cd3"
   }
  }
 },
 "nbformat": 4,
 "nbformat_minor": 2
}
