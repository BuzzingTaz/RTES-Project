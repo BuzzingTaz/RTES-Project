{
 "cells": [
  {
   "cell_type": "code",
   "execution_count": 1,
   "metadata": {},
   "outputs": [
    {
     "ename": "IndentationError",
     "evalue": "expected an indented block (3098013220.py, line 2)",
     "output_type": "error",
     "traceback": [
      "\u001b[1;36m  Input \u001b[1;32mIn [1]\u001b[1;36m\u001b[0m\n\u001b[1;33m    class taskset:\u001b[0m\n\u001b[1;37m    ^\u001b[0m\n\u001b[1;31mIndentationError\u001b[0m\u001b[1;31m:\u001b[0m expected an indented block\n"
     ]
    }
   ],
   "source": [
    "class Tasks:\n",
    "\n",
    "class taskset:\n",
    "\n",
    "    def __init__(self, n, ut):\n",
    "        self.n = n\n",
    "        self.ut = ut\n",
    "        self.tasks = None\n",
    "        \n",
    "    def UniFastDiscard(self):\n"
   ]
  },
  {
   "cell_type": "code",
   "execution_count": null,
   "metadata": {},
   "outputs": [],
   "source": [
    "def OPA(taskset, S_test):\n",
    "    N = len(taskset)\n",
    "    taskset_copy = taskset.copy()\n",
    "    priority_assigned = [False] * N\n",
    "    for i in range(N):\n",
    "        for i,task in enumerate(taskset_copy):\n",
    "            if not priority_assigned[i]:\n",
    "                if(S_test(task)):\n",
    "                    task[] = i+1\n",
    "                    priority_assigned[i] = True\n",
    "                    break\n",
    "        else:\n",
    "            return False\n",
    "    \n",
    "    return taskset_copy"
   ]
  }
 ],
 "metadata": {
  "kernelspec": {
   "display_name": "Python 3.9.0 64-bit",
   "language": "python",
   "name": "python3"
  },
  "language_info": {
   "codemirror_mode": {
    "name": "ipython",
    "version": 3
   },
   "file_extension": ".py",
   "mimetype": "text/x-python",
   "name": "python",
   "nbconvert_exporter": "python",
   "pygments_lexer": "ipython3",
   "version": "3.9.0"
  },
  "orig_nbformat": 4,
  "vscode": {
   "interpreter": {
    "hash": "eef920dd73cd3ef78477e8ab32607aaeccce0de781c75bf88db90c589e446cd3"
   }
  }
 },
 "nbformat": 4,
 "nbformat_minor": 2
}
