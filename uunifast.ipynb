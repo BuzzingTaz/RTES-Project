{
 "cells": [
  {
   "cell_type": "code",
   "execution_count": 1,
   "metadata": {},
   "outputs": [],
   "source": [
    "import numpy as np"
   ]
  },
  {
   "cell_type": "code",
   "execution_count": 16,
   "metadata": {},
   "outputs": [],
   "source": [
    "def uunifastdiscard(n,ut,discard_limit = 1000):\n",
    "    sumu = ut\n",
    "    for i in range(discard_limit):\n",
    "        utilities = []\n",
    "        for i in range(n-1):\n",
    "            nextsumu = sumu*(np.random.random()**(1/(n-1)))\n",
    "            utilities.append(sumu - nextsumu)\n",
    "            sumu = nextsumu\n",
    "\n",
    "        utilities.append(sumu)\n",
    "\n",
    "        if all(ut <= 1 for ut in utilities):\n",
    "            return np.array(utilities)\n",
    "        else:\n",
    "            sumu = ut\n",
    "\n",
    "    return False\n",
    "            "
   ]
  },
  {
   "cell_type": "code",
   "execution_count": 15,
   "metadata": {},
   "outputs": [],
   "source": [
    "def periods_generation(n,min_period,max_period):\n",
    "    periods = np.ceil(np.exp(np.random.uniform(low=np.log(min_period), high=np.log(max_period),size=(n))))\n",
    "    return periods"
   ]
  },
  {
   "cell_type": "code",
   "execution_count": 20,
   "metadata": {},
   "outputs": [],
   "source": [
    "def execution_times(utilities,periods):\n",
    "    return np.ceil(utilities * periods)"
   ]
  },
  {
   "cell_type": "code",
   "execution_count": 18,
   "metadata": {},
   "outputs": [],
   "source": [
    "def task_deadlines(execution_time,period):\n",
    "    deadline = []\n",
    "    for i in range(len(execution_time)):\n",
    "        deadline.append(np.random.uniform(low = execution_time[i] , high = period[i]))\n",
    "\n",
    "    return np.floor(np.array(deadline))"
   ]
  },
  {
   "cell_type": "code",
   "execution_count": 29,
   "metadata": {},
   "outputs": [],
   "source": [
    "n = 10\n",
    "u = 5\n",
    "def taskset_generation(n,u):\n",
    "    ut = uunifastdiscard(n,u)\n",
    "    p = periods_generation(10,1,1000)\n",
    "    e = execution_times(ut,p)\n",
    "    d = task_deadlines(e,p)\n",
    "    taskset = [[p[i],e[i],d[i]] for i in range(len(p))]\n",
    "\n",
    "taskset_generation(10,5)\n"
   ]
  },
  {
   "cell_type": "markdown",
   "metadata": {},
   "source": [
    "## Schedulability tests"
   ]
  },
  {
   "cell_type": "code",
   "execution_count": 15,
   "metadata": {},
   "outputs": [],
   "source": [
    "def deadline_analysis(ptaskset,m):    #taskset = {period,execution time,deadline}\n",
    "    num_tasks = len(ptaskset)\n",
    "    for i in range(num_tasks):\n",
    "        total_workload = 0\n",
    "        ei,di = ptaskset[i][1],ptaskset[i][2]\n",
    "        l = di\n",
    "        for j in range(i):\n",
    "            pj,ej,dj = ptaskset[j][0],ptaskset[j][1],ptaskset[j][2]\n",
    "            max_jobs = np.floor(( l + dj - ej )/pj)\n",
    "            workload_j = max_jobs*ej + min(ej,l + dj - ej - max_jobs*pj)\n",
    "            workload_j = min(workload_j,di - ei + 1)\n",
    "            total_workload += workload_j\n",
    "\n",
    "        thresh = ei + np.floor(total_workload/m)\n",
    "        if di < thresh:\n",
    "            return 0\n",
    "    return 1"
   ]
  },
  {
   "cell_type": "code",
   "execution_count": 14,
   "metadata": {},
   "outputs": [],
   "source": [
    "def responsetimeanalysis(ptaskset,m):\n",
    "    num_tasks = len(ptaskset)\n",
    "    for i in range(num_tasks):\n",
    "        ei,di = ptaskset[i][1],ptaskset[i][2]\n",
    "        l = di\n",
    "        res = ei\n",
    "        new_res = ei + 10\n",
    "        if i == 1:\n",
    "            if res <= di:\n",
    "                continue\n",
    "            else:\n",
    "                return 0\n",
    "\n",
    "        while new_res - res > 0.7 and new_res <= di :\n",
    "\n",
    "            total_workload = 0\n",
    "            for j in range(i):\n",
    "                pj,ej = ptaskset[j][0],ptaskset[j][1]\n",
    "                max_jobs = np.floor(( l + res - ej )/pj)\n",
    "                workload_j = max_jobs*ej + min(ej,l + res - ej - max_jobs*pj)\n",
    "                workload_j = min(workload_j,res - ei + 1)\n",
    "                total_workload += workload_j\n",
    "\n",
    "            new_res = ei + np.floor(total_workload/m)\n",
    "\n",
    "        if new_res - res <= 0.7 and new_res <= di :\n",
    "            continue\n",
    "        else:\n",
    "            return 0\n",
    "\n",
    "    return 1"
   ]
  },
  {
   "cell_type": "markdown",
   "metadata": {},
   "source": [
    "## Scheduling algorithms"
   ]
  },
  {
   "cell_type": "code",
   "execution_count": 26,
   "metadata": {},
   "outputs": [],
   "source": [
    "def DMPO(taskset):\n",
    "    taskset.sort(key = lambda x:x[-1])"
   ]
  },
  {
   "cell_type": "code",
   "execution_count": 33,
   "metadata": {},
   "outputs": [],
   "source": [
    "def D_CMPO(taskset):\n",
    "    taskset.sort(key = lambda x:x[-1] - x[-2])"
   ]
  },
  {
   "cell_type": "code",
   "execution_count": 37,
   "metadata": {},
   "outputs": [],
   "source": [
    "def DkC(taskset,m):\n",
    "    k = ((m - 1) + np.sqrt(5*m**2 - 6*m + 1))/(2*m)\n",
    "    taskset.sort(key = lambda x:x[-1] - k*x[-2])    "
   ]
  },
  {
   "cell_type": "code",
   "execution_count": null,
   "metadata": {},
   "outputs": [],
   "source": [
    "def OPA(taskset,m):\n",
    "    ## total concepts and final code\n",
    "    print(\"do\")"
   ]
  },
  {
   "cell_type": "markdown",
   "metadata": {},
   "source": [
    "# start"
   ]
  },
  {
   "cell_type": "code",
   "execution_count": 2,
   "metadata": {},
   "outputs": [],
   "source": [
    "class Task():\n",
    "    def __init__(self, period, execution_time, deadline ):\n",
    "        self.period = period\n",
    "        self.execution_time = execution_time\n",
    "        self.deadline = deadline\n",
    "        self.priority = None\n",
    "\n",
    "    def __repr__(self) -> str:\n",
    "        return \"Task: \" +  str(self.period) +\" \" + str(self.execution_time) + \" \" + str(self.deadline) + \" \" + str(self.priority)\n",
    "\n",
    "class TaskSet():\n",
    "\n",
    "    def __init__(self, n, ut, min_period, max_period):\n",
    "        self.n = n\n",
    "        self.ut = ut\n",
    "        self.min_period = min_period\n",
    "        self.max_period = max_period\n",
    "        self.tasks = None\n",
    "\n",
    "    def generate(self):\n",
    "        self.utilities = self.uunifastdiscard()\n",
    "        if self.utilities is None:\n",
    "            print(\"Failed to generate taskset with given parameters\")\n",
    "            return False\n",
    "\n",
    "        self.periods = self.periods_generation()\n",
    "        self.execution_time = self.execution_times()\n",
    "        self.deadline = self.task_deadlines()\n",
    "\n",
    "        self.tasks = []\n",
    "        for i in range(self.n):\n",
    "            self.tasks.append(Task(self.periods[i],self.execution_time[i],self.deadline[i]))\n",
    "        return True\n",
    "        \n",
    "\n",
    "    def uunifastdiscard(self,discard_limit = 1000):\n",
    "        sumu = self.ut\n",
    "        for j in range(discard_limit):\n",
    "            utilities = []\n",
    "            for i in range(self.n-1):\n",
    "                nextsumu = sumu*(np.random.random()**(1/(self.n-i+1)))\n",
    "                utilities.append(sumu - nextsumu)\n",
    "                sumu = nextsumu\n",
    "\n",
    "            utilities.append(sumu)\n",
    "\n",
    "            if all(ut <= 1 for ut in utilities):\n",
    "                return np.array(utilities)\n",
    "            else:\n",
    "                sumu = self.ut\n",
    "\n",
    "        return None\n",
    "    \n",
    "    def periods_generation(self):\n",
    "        periods = np.ceil(np.exp(np.random.uniform(low=np.log(self.min_period), high=np.log(self.max_period),size=(self.n))))\n",
    "        return periods\n",
    "    \n",
    "    def execution_times(self):\n",
    "        return np.ceil(self.utilities * self.periods)\n",
    "    \n",
    "    def task_deadlines(self):\n",
    "        deadline = []\n",
    "        for i in range(len(self.execution_time)):\n",
    "            deadline.append(np.random.uniform(low = self.execution_time[i] , high = self.periods[i]))\n",
    "\n",
    "        return np.floor(np.array(deadline))"
   ]
  },
  {
   "cell_type": "code",
   "execution_count": 5,
   "metadata": {},
   "outputs": [],
   "source": [
    "def DMPO(set):\n",
    "    set.sort(key = lambda x:x.deadline)"
   ]
  },
  {
   "cell_type": "code",
   "execution_count": 124,
   "metadata": {},
   "outputs": [],
   "source": [
    "def D_CMPO(taskset):\n",
    "    taskset.sort(key = lambda x:x.deadline - x.execution_time)"
   ]
  },
  {
   "cell_type": "code",
   "execution_count": 128,
   "metadata": {},
   "outputs": [],
   "source": [
    "def DkC(taskset,m):\n",
    "    k = ((m - 1) + np.sqrt(5*m**2 - 6*m + 1))/(2*m)\n",
    "    taskset.sort(key = lambda x:x.deadline - k*x.execution_time)"
   ]
  },
  {
   "cell_type": "code",
   "execution_count": 6,
   "metadata": {},
   "outputs": [],
   "source": [
    "def deadline_analysis_OPA(ptaskset,m):    #taskset = {period,execution time,deadline}\n",
    "    Ck = ptaskset[-1].execution_time\n",
    "    Dk = ptaskset[-1].deadline\n",
    "    l = Dk\n",
    "    total_workload = 0\n",
    "\n",
    "    for task in ptaskset[:-1]:\n",
    "        Ti,Ci,Di = task.period,task.execution_time,task.deadline\n",
    "        max_jobs = np.floor(( l + Di - Ci )/Ti)\n",
    "        workload_task = max_jobs*Ci + min(Ci,l + Di - Ci - max_jobs*Ti)\n",
    "        workload_task = min(workload_task,Dk - Ck + 1)\n",
    "        total_workload += workload_task\n",
    "\n",
    "        thresh = Ck + np.floor(total_workload/m)\n",
    "        if Dk < thresh:\n",
    "            return 0\n",
    "    return 1"
   ]
  },
  {
   "cell_type": "code",
   "execution_count": 89,
   "metadata": {},
   "outputs": [],
   "source": [
    "def deadline_analysis(ptaskset,m):    #taskset = {period,execution time,deadline}\n",
    "    num_tasks = len(ptaskset)\n",
    "    cleared = 0\n",
    "    for k in range(num_tasks):\n",
    "        \n",
    "        total_workload = 0\n",
    "        Ck,Dk = ptaskset[k].execution_time,ptaskset[k].deadline\n",
    "        l = Dk\n",
    "        for i in range(k):\n",
    "            Ti,Ci,Di = ptaskset[i].period,ptaskset[i].execution_time,ptaskset[i].deadline\n",
    "            max_jobs = np.floor(( l + Di - Ci )/Ti)\n",
    "            workload_j = max_jobs*Ci + min(Ci,l + Di - Ci - max_jobs*Ti)\n",
    "            workload_j = min(workload_j,Dk - Ck + 1)\n",
    "            total_workload += workload_j\n",
    "\n",
    "        thresh = Ck + np.floor(total_workload/m)\n",
    "        if Dk >= thresh:\n",
    "            cleared += 1\n",
    "\n",
    "    return (cleared/num_tasks)*100"
   ]
  },
  {
   "cell_type": "code",
   "execution_count": null,
   "metadata": {},
   "outputs": [],
   "source": [
    "def responsetimeanalysis(ptaskset,m):\n",
    "    num_tasks = len(ptaskset)\n",
    "    cleared = 0\n",
    "    for k in range(num_tasks):\n",
    "        Ck,Dk = ptaskset[k].execution_time,ptaskset[k].deadline\n",
    "        l = Dk\n",
    "        res = Ck\n",
    "        new_res = Ck + 10\n",
    "        if k == 1:\n",
    "            if res <= Dk:\n",
    "                continue\n",
    "            else:\n",
    "                return 0\n",
    "\n",
    "        while new_res - res > 0.7 and new_res <= Dk :\n",
    "\n",
    "            total_workload = 0\n",
    "            for i in range(k):\n",
    "                Ti,Ci = ptaskset[i].period,ptaskset[i].execution_time\n",
    "                max_jobs = np.floor(( l + res - Ci )/Ti)\n",
    "                workload_j = max_jobs*Ci + min(Ci,l + res - Ci - max_jobs*Ti)\n",
    "                workload_j = min(workload_j,res - Ck + 1)\n",
    "                total_workload += workload_j\n",
    "\n",
    "            new_res = Ck + np.floor(total_workload/m)\n",
    "\n",
    "        if new_res - res <= 0.7 and new_res <= Dk :\n",
    "            cleared += 1\n",
    "\n",
    "    return (cleared/num_tasks)*100"
   ]
  },
  {
   "cell_type": "code",
   "execution_count": 131,
   "metadata": {},
   "outputs": [
    {
     "name": "stdout",
     "output_type": "stream",
     "text": [
      "100.0\n"
     ]
    }
   ],
   "source": [
    "cores = 8\n",
    "taskset = TaskSet(cores*5,0.6,10,100)\n",
    "taskset.generate()\n",
    "DMPO(taskset.tasks)\n",
    "v = deadline_analysis(taskset.tasks,cores)\n",
    "print(v)"
   ]
  },
  {
   "cell_type": "code",
   "execution_count": 103,
   "metadata": {},
   "outputs": [],
   "source": [
    "from matplotlib import pyplot as plt"
   ]
  },
  {
   "cell_type": "code",
   "execution_count": 134,
   "metadata": {},
   "outputs": [
    {
     "ename": "KeyboardInterrupt",
     "evalue": "",
     "output_type": "error",
     "traceback": [
      "\u001b[1;31m---------------------------------------------------------------------------\u001b[0m",
      "\u001b[1;31mKeyboardInterrupt\u001b[0m                         Traceback (most recent call last)",
      "\u001b[1;32md:\\M22\\real-time embedded systems\\rtes_proj\\RTES-Project\\uunifast.ipynb Cell 24\u001b[0m in \u001b[0;36m<cell line: 4>\u001b[1;34m()\u001b[0m\n\u001b[0;32m      <a href='vscode-notebook-cell:/d%3A/M22/real-time%20embedded%20systems/rtes_proj/RTES-Project/uunifast.ipynb#X32sZmlsZQ%3D%3D?line=8'>9</a>\u001b[0m     taskset\u001b[39m.\u001b[39mgenerate()\n\u001b[0;32m     <a href='vscode-notebook-cell:/d%3A/M22/real-time%20embedded%20systems/rtes_proj/RTES-Project/uunifast.ipynb#X32sZmlsZQ%3D%3D?line=9'>10</a>\u001b[0m     DMPO(taskset\u001b[39m.\u001b[39mtasks)\n\u001b[1;32m---> <a href='vscode-notebook-cell:/d%3A/M22/real-time%20embedded%20systems/rtes_proj/RTES-Project/uunifast.ipynb#X32sZmlsZQ%3D%3D?line=10'>11</a>\u001b[0m     v \u001b[39m=\u001b[39m deadline_analysis(taskset\u001b[39m.\u001b[39;49mtasks,cores)\n\u001b[0;32m     <a href='vscode-notebook-cell:/d%3A/M22/real-time%20embedded%20systems/rtes_proj/RTES-Project/uunifast.ipynb#X32sZmlsZQ%3D%3D?line=11'>12</a>\u001b[0m     avg \u001b[39m+\u001b[39m\u001b[39m=\u001b[39m v\n\u001b[0;32m     <a href='vscode-notebook-cell:/d%3A/M22/real-time%20embedded%20systems/rtes_proj/RTES-Project/uunifast.ipynb#X32sZmlsZQ%3D%3D?line=12'>13</a>\u001b[0m sch\u001b[39m.\u001b[39mappend(avg\u001b[39m/\u001b[39m\u001b[39m1000\u001b[39m)\n",
      "\u001b[1;32md:\\M22\\real-time embedded systems\\rtes_proj\\RTES-Project\\uunifast.ipynb Cell 24\u001b[0m in \u001b[0;36mdeadline_analysis\u001b[1;34m(ptaskset, m)\u001b[0m\n\u001b[0;32m     <a href='vscode-notebook-cell:/d%3A/M22/real-time%20embedded%20systems/rtes_proj/RTES-Project/uunifast.ipynb#X32sZmlsZQ%3D%3D?line=10'>11</a>\u001b[0m     max_jobs \u001b[39m=\u001b[39m np\u001b[39m.\u001b[39mfloor(( l \u001b[39m+\u001b[39m Di \u001b[39m-\u001b[39m Ci )\u001b[39m/\u001b[39mTi)\n\u001b[0;32m     <a href='vscode-notebook-cell:/d%3A/M22/real-time%20embedded%20systems/rtes_proj/RTES-Project/uunifast.ipynb#X32sZmlsZQ%3D%3D?line=11'>12</a>\u001b[0m     workload_j \u001b[39m=\u001b[39m max_jobs\u001b[39m*\u001b[39mCi \u001b[39m+\u001b[39m \u001b[39mmin\u001b[39m(Ci,l \u001b[39m+\u001b[39m Di \u001b[39m-\u001b[39m Ci \u001b[39m-\u001b[39m max_jobs\u001b[39m*\u001b[39mTi)\n\u001b[1;32m---> <a href='vscode-notebook-cell:/d%3A/M22/real-time%20embedded%20systems/rtes_proj/RTES-Project/uunifast.ipynb#X32sZmlsZQ%3D%3D?line=12'>13</a>\u001b[0m     workload_j \u001b[39m=\u001b[39m \u001b[39mmin\u001b[39;49m(workload_j,Dk \u001b[39m-\u001b[39;49m Ck \u001b[39m+\u001b[39;49m \u001b[39m1\u001b[39;49m)\n\u001b[0;32m     <a href='vscode-notebook-cell:/d%3A/M22/real-time%20embedded%20systems/rtes_proj/RTES-Project/uunifast.ipynb#X32sZmlsZQ%3D%3D?line=13'>14</a>\u001b[0m     total_workload \u001b[39m+\u001b[39m\u001b[39m=\u001b[39m workload_j\n\u001b[0;32m     <a href='vscode-notebook-cell:/d%3A/M22/real-time%20embedded%20systems/rtes_proj/RTES-Project/uunifast.ipynb#X32sZmlsZQ%3D%3D?line=15'>16</a>\u001b[0m thresh \u001b[39m=\u001b[39m Ck \u001b[39m+\u001b[39m np\u001b[39m.\u001b[39mfloor(total_workload\u001b[39m/\u001b[39mm)\n",
      "\u001b[1;31mKeyboardInterrupt\u001b[0m: "
     ]
    }
   ],
   "source": [
    "cores = 8\n",
    "ut = np.linspace(0.1,cores,20)\n",
    "sch = []\n",
    "for i in ut:\n",
    "    avg = 0\n",
    "    for j in range(1000):\n",
    "        #print(j)\n",
    "        taskset = TaskSet(cores*5,i,10,100)\n",
    "        taskset.generate()\n",
    "        DMPO(taskset.tasks)\n",
    "        v = deadline_analysis(taskset.tasks,cores)\n",
    "        avg += v\n",
    "    sch.append(avg/1000)\n",
    "plt.plot(ut,sch,label = 'DMPO') \n",
    "sch = []\n",
    "for i in ut:\n",
    "    avg = 0\n",
    "    for j in range(1000):\n",
    "        #print(j)\n",
    "        taskset = TaskSet(cores*5,i,10,100)\n",
    "        taskset.generate()\n",
    "        D_CMPO(taskset.tasks)\n",
    "        v = deadline_analysis(taskset.tasks,cores)\n",
    "        avg += v\n",
    "    sch.append(avg/1000)\n",
    "\n",
    "\n",
    "plt.plot(ut,sch,label = 'D_CMPO') \n",
    "\n",
    "sch = []\n",
    "for i in ut:\n",
    "    avg = 0\n",
    "    for j in range(1000):\n",
    "        taskset = TaskSet(cores*5,i,10,100)\n",
    "        taskset.generate()\n",
    "        DkC(taskset.tasks,cores)\n",
    "        v = deadline_analysis(taskset.tasks,cores)\n",
    "        avg += v\n",
    "    sch.append(avg/1000)\n",
    "\n",
    "plt.plot(ut,sch,label = 'DkC') \n",
    "\n",
    "plt.legend()\n",
    "plt.show()"
   ]
  }
 ],
 "metadata": {
  "kernelspec": {
   "display_name": "Python 3.10.8 64-bit",
   "language": "python",
   "name": "python3"
  },
  "language_info": {
   "codemirror_mode": {
    "name": "ipython",
    "version": 3
   },
   "file_extension": ".py",
   "mimetype": "text/x-python",
   "name": "python",
   "nbconvert_exporter": "python",
   "pygments_lexer": "ipython3",
   "version": "3.10.8"
  },
  "orig_nbformat": 4,
  "vscode": {
   "interpreter": {
    "hash": "7157a62e85b7b4197c3acc922ce8503cad50f92a7c60c9bc670f81ada39c5d0f"
   }
  }
 },
 "nbformat": 4,
 "nbformat_minor": 2
}
