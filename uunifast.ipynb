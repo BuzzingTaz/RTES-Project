{
 "cells": [
  {
   "cell_type": "code",
   "execution_count": 1,
   "metadata": {},
   "outputs": [],
   "source": [
    "import numpy as np"
   ]
  },
  {
   "cell_type": "code",
   "execution_count": 16,
   "metadata": {},
   "outputs": [],
   "source": [
    "def uunifastdiscard(n,ut):\n",
    "    sumu = ut\n",
    "    while True:\n",
    "        utilities = []\n",
    "        for i in range(n-1):\n",
    "            nextsumu = sumu*(np.random.random()**(1/(n-1)))\n",
    "            utilities.append(sumu - nextsumu)\n",
    "            sumu = nextsumu\n",
    "\n",
    "        utilities.append(sumu)\n",
    "\n",
    "        if all(ut <= 1 for ut in utilities):\n",
    "            return np.array(utilities)\n",
    "        else:\n",
    "            sumu = ut\n",
    "            "
   ]
  },
  {
   "cell_type": "code",
   "execution_count": 15,
   "metadata": {},
   "outputs": [],
   "source": [
    "def periods_generation(n,min_period,max_period):\n",
    "    periods = np.ceil(np.exp(np.random.uniform(low=np.log(min_period), high=np.log(max_period),size=(n))))\n",
    "    return periods"
   ]
  },
  {
   "cell_type": "code",
   "execution_count": 20,
   "metadata": {},
   "outputs": [],
   "source": [
    "def execution_times(utilities,periods):\n",
    "    return np.ceil(utilities * periods)"
   ]
  },
  {
   "cell_type": "code",
   "execution_count": 18,
   "metadata": {},
   "outputs": [],
   "source": [
    "def task_deadlines(execution_time,period):\n",
    "    deadline = []\n",
    "    for i in range(len(execution_time)):\n",
    "        deadline.append(np.random.uniform(low = execution_time[i] , high = period[i]))\n",
    "\n",
    "    return np.floor(np.array(deadline))"
   ]
  },
  {
   "cell_type": "code",
   "execution_count": 29,
   "metadata": {},
   "outputs": [],
   "source": [
    "n = 10\n",
    "u = 5\n",
    "def taskset_generation(n,u):\n",
    "    ut = uunifastdiscard(n,u)\n",
    "    p = periods_generation(10,1,1000)\n",
    "    e = execution_times(ut,p)\n",
    "    d = task_deadlines(e,p)\n",
    "    taskset = [[p[i],e[i],d[i]] for i in range(len(p))]\n",
    "\n",
    "taskset_generation(10,5)\n"
   ]
  },
  {
   "cell_type": "markdown",
   "metadata": {},
   "source": [
    "## Schedulability tests"
   ]
  },
  {
   "cell_type": "code",
   "execution_count": 15,
   "metadata": {},
   "outputs": [],
   "source": [
    "def deadline_analysis(ptaskset,m):    #taskset = {period,execution time,deadline}\n",
    "    num_tasks = len(ptaskset)\n",
    "    for i in range(num_tasks):\n",
    "        total_workload = 0\n",
    "        ei,di = ptaskset[i][1],ptaskset[i][2]\n",
    "        l = di\n",
    "        for j in range(i):\n",
    "            pj,ej,dj = ptaskset[j][0],ptaskset[j][1],ptaskset[j][2]\n",
    "            max_jobs = np.floor(( l + dj - ej )/pj)\n",
    "            workload_j = max_jobs*ej + min(ej,l + dj - ej - max_jobs*pj)\n",
    "            workload_j = min(workload_j,di - ei + 1)\n",
    "            total_workload += workload_j\n",
    "\n",
    "        thresh = ei + np.floor(total_workload/m)\n",
    "        if di < thresh:\n",
    "            return 0\n",
    "    return 1"
   ]
  },
  {
   "cell_type": "code",
   "execution_count": 14,
   "metadata": {},
   "outputs": [],
   "source": [
    "def responsetimeanalysis(ptaskset,m):\n",
    "    num_tasks = len(ptaskset)\n",
    "    for i in range(num_tasks):\n",
    "        ei,di = ptaskset[i][1],ptaskset[i][2]\n",
    "        l = di\n",
    "        res = ei\n",
    "        new_res = ei + 10\n",
    "        if i == 1:\n",
    "            if res <= di:\n",
    "                continue\n",
    "            else:\n",
    "                return 0\n",
    "\n",
    "        while new_res - res > 0.7 and new_res <= di :\n",
    "\n",
    "            total_workload = 0\n",
    "            for j in range(i):\n",
    "                pj,ej = ptaskset[j][0],ptaskset[j][1]\n",
    "                max_jobs = np.floor(( l + res - ej )/pj)\n",
    "                workload_j = max_jobs*ej + min(ej,l + res - ej - max_jobs*pj)\n",
    "                workload_j = min(workload_j,res - ei + 1)\n",
    "                total_workload += workload_j\n",
    "\n",
    "            new_res = ei + np.floor(total_workload/m)\n",
    "\n",
    "        if new_res - res <= 0.7 and new_res <= di :\n",
    "            continue\n",
    "        else:\n",
    "            return 0\n",
    "\n",
    "    return 1"
   ]
  },
  {
   "cell_type": "markdown",
   "metadata": {},
   "source": [
    "## Scheduling algorithms"
   ]
  },
  {
   "cell_type": "code",
   "execution_count": 26,
   "metadata": {},
   "outputs": [],
   "source": [
    "def DMPO(taskset):\n",
    "    taskset.sort(key = lambda x:x[-1])"
   ]
  },
  {
   "cell_type": "code",
   "execution_count": 33,
   "metadata": {},
   "outputs": [],
   "source": [
    "def D_CMPO(taskset):\n",
    "    taskset.sort(key = lambda x:x[-1] - x[-2])"
   ]
  },
  {
   "cell_type": "code",
   "execution_count": 37,
   "metadata": {},
   "outputs": [],
   "source": [
    "def DkC(taskset,m):\n",
    "    k = ((m - 1) + np.sqrt(5*m**2 - 6*m + 1))/(2*m)\n",
    "    taskset.sort(key = lambda x:x[-1] - k*x[-2])    "
   ]
  },
  {
   "cell_type": "code",
   "execution_count": null,
   "metadata": {},
   "outputs": [],
   "source": [
    "def OPA(taskset,m):\n",
    "    ## total concepts and final code\n",
    "    print(\"do\")"
   ]
  }
 ],
 "metadata": {
  "kernelspec": {
   "display_name": "Python 3.10.8 64-bit",
   "language": "python",
   "name": "python3"
  },
  "language_info": {
   "codemirror_mode": {
    "name": "ipython",
    "version": 3
   },
   "file_extension": ".py",
   "mimetype": "text/x-python",
   "name": "python",
   "nbconvert_exporter": "python",
   "pygments_lexer": "ipython3",
   "version": "3.10.8"
  },
  "orig_nbformat": 4,
  "vscode": {
   "interpreter": {
    "hash": "7157a62e85b7b4197c3acc922ce8503cad50f92a7c60c9bc670f81ada39c5d0f"
   }
  }
 },
 "nbformat": 4,
 "nbformat_minor": 2
}
