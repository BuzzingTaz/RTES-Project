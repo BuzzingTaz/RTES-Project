{
 "cells": [
  {
   "cell_type": "code",
   "execution_count": 1,
   "metadata": {},
   "outputs": [],
   "source": [
    "import numpy as np\n",
    "from matplotlib import pyplot as plt"
   ]
  },
  {
   "cell_type": "code",
   "execution_count": 2,
   "metadata": {},
   "outputs": [],
   "source": [
    "def uunifastdiscard(n,ut,discard_limit = 1000):\n",
    "    sumu = ut\n",
    "    for i in range(discard_limit):\n",
    "        utilities = []\n",
    "        for i in range(n-1):\n",
    "            nextsumu = sumu*(np.random.random()**(1/(n-1)))\n",
    "            utilities.append(sumu - nextsumu)\n",
    "            sumu = nextsumu\n",
    "\n",
    "        utilities.append(sumu)\n",
    "\n",
    "        if all(ut <= 1 for ut in utilities):\n",
    "            return np.array(utilities)\n",
    "        else:\n",
    "            sumu = ut\n",
    "\n",
    "    return False\n",
    "            "
   ]
  },
  {
   "cell_type": "code",
   "execution_count": 3,
   "metadata": {},
   "outputs": [],
   "source": [
    "def periods_generation(n,min_period,max_period):\n",
    "    periods = np.ceil(np.exp(np.random.uniform(low=np.log(min_period), high=np.log(max_period),size=(n))))\n",
    "    return periods"
   ]
  },
  {
   "cell_type": "code",
   "execution_count": 4,
   "metadata": {},
   "outputs": [],
   "source": [
    "def execution_times(utilities,periods):\n",
    "    return np.ceil(utilities * periods)"
   ]
  },
  {
   "cell_type": "code",
   "execution_count": 5,
   "metadata": {},
   "outputs": [],
   "source": [
    "def task_deadlines(execution_time,period):\n",
    "    deadline = []\n",
    "    for i in range(len(execution_time)):\n",
    "        deadline.append(np.random.uniform(low = execution_time[i] , high = period[i]))\n",
    "\n",
    "    return np.floor(np.array(deadline))"
   ]
  },
  {
   "cell_type": "code",
   "execution_count": 6,
   "metadata": {},
   "outputs": [],
   "source": [
    "n = 10\n",
    "u = 5\n",
    "def taskset_generation(n,u):\n",
    "    ut = uunifastdiscard(n,u)\n",
    "    p = periods_generation(10,1,1000)\n",
    "    e = execution_times(ut,p)\n",
    "    d = task_deadlines(e,p)\n",
    "    taskset = [[p[i],e[i],d[i]] for i in range(len(p))]\n",
    "\n",
    "taskset_generation(10,5)\n"
   ]
  },
  {
   "cell_type": "markdown",
   "metadata": {},
   "source": [
    "## Schedulability tests"
   ]
  },
  {
   "cell_type": "code",
   "execution_count": 7,
   "metadata": {},
   "outputs": [],
   "source": [
    "def deadline_analysis(ptaskset,m):    #taskset = {period,execution time,deadline}\n",
    "    num_tasks = len(ptaskset)\n",
    "    for i in range(num_tasks):\n",
    "        total_workload = 0\n",
    "        ei,di = ptaskset[i][1],ptaskset[i][2]\n",
    "        l = di\n",
    "        for j in range(i):\n",
    "            pj,ej,dj = ptaskset[j][0],ptaskset[j][1],ptaskset[j][2]\n",
    "            max_jobs = np.floor(( l + dj - ej )/pj)\n",
    "            workload_j = max_jobs*ej + min(ej,l + dj - ej - max_jobs*pj)\n",
    "            workload_j = min(workload_j,di - ei + 1)\n",
    "            total_workload += workload_j\n",
    "\n",
    "        thresh = ei + np.floor(total_workload/m)\n",
    "        if di < thresh:\n",
    "            return 0\n",
    "    return 1"
   ]
  },
  {
   "cell_type": "code",
   "execution_count": 8,
   "metadata": {},
   "outputs": [],
   "source": [
    "def responsetimeanalysis(ptaskset,m):\n",
    "    num_tasks = len(ptaskset)\n",
    "    for i in range(num_tasks):\n",
    "        ei,di = ptaskset[i][1],ptaskset[i][2]\n",
    "        l = di\n",
    "        res = ei\n",
    "        new_res = ei + 10\n",
    "        if i == 1:\n",
    "            if res <= di:\n",
    "                continue\n",
    "            else:\n",
    "                return 0\n",
    "\n",
    "        while new_res - res > 0.7 and new_res <= di :\n",
    "\n",
    "            total_workload = 0\n",
    "            for j in range(i):\n",
    "                pj,ej = ptaskset[j][0],ptaskset[j][1]\n",
    "                max_jobs = np.floor(( l + res - ej )/pj)\n",
    "                workload_j = max_jobs*ej + min(ej,l + res - ej - max_jobs*pj)\n",
    "                workload_j = min(workload_j,res - ei + 1)\n",
    "                total_workload += workload_j\n",
    "\n",
    "            new_res = ei + np.floor(total_workload/m)\n",
    "\n",
    "        if new_res - res <= 0.7 and new_res <= di :\n",
    "            continue\n",
    "        else:\n",
    "            return 0\n",
    "\n",
    "    return 1"
   ]
  },
  {
   "cell_type": "markdown",
   "metadata": {},
   "source": [
    "## Scheduling algorithms"
   ]
  },
  {
   "cell_type": "code",
   "execution_count": 9,
   "metadata": {},
   "outputs": [],
   "source": [
    "def DMPO(taskset):\n",
    "    taskset.sort(key = lambda x:x[-1])"
   ]
  },
  {
   "cell_type": "code",
   "execution_count": 10,
   "metadata": {},
   "outputs": [],
   "source": [
    "def D_CMPO(taskset):\n",
    "    taskset.sort(key = lambda x:x[-1] - x[-2])"
   ]
  },
  {
   "cell_type": "code",
   "execution_count": 11,
   "metadata": {},
   "outputs": [],
   "source": [
    "def DkC(taskset,m):\n",
    "    k = ((m - 1) + np.sqrt(5*m**2 - 6*m + 1))/(2*m)\n",
    "    taskset.sort(key = lambda x:x[-1] - k*x[-2])    "
   ]
  },
  {
   "cell_type": "code",
   "execution_count": 12,
   "metadata": {},
   "outputs": [],
   "source": [
    "def OPA(taskset,m):\n",
    "    ## total concepts and final code\n",
    "    print(\"do\")"
   ]
  },
  {
   "cell_type": "markdown",
   "metadata": {},
   "source": [
    "# start"
   ]
  },
  {
   "cell_type": "code",
   "execution_count": 13,
   "metadata": {},
   "outputs": [],
   "source": [
    "class Task():\n",
    "    def __init__(self, period, execution_time, deadline ):\n",
    "        self.period = period\n",
    "        self.execution_time = execution_time\n",
    "        self.deadline = deadline\n",
    "        self.priority = None\n",
    "\n",
    "    def __repr__(self) -> str:\n",
    "        return \"Task: \" +  str(self.period) +\" \" + str(self.execution_time) + \" \" + str(self.deadline) + \" \" + str(self.priority)\n",
    "\n",
    "class TaskSet():\n",
    "\n",
    "    def __init__(self, n, ut, min_period, max_period):\n",
    "        self.n = n\n",
    "        self.ut = ut\n",
    "        self.min_period = min_period\n",
    "        self.max_period = max_period\n",
    "        self.tasks = None\n",
    "\n",
    "    def generate(self):\n",
    "        self.utilities = self.uunifastdiscard()\n",
    "        if self.utilities is None:\n",
    "            print(\"Failed to generate taskset with given parameters\")\n",
    "            return False\n",
    "\n",
    "        self.periods = self.periods_generation()\n",
    "        self.execution_time = self.execution_times()\n",
    "        self.deadline = self.task_deadlines()\n",
    "\n",
    "        self.tasks = []\n",
    "        for i in range(self.n):\n",
    "            self.tasks.append(Task(self.periods[i],self.execution_time[i],self.deadline[i]))\n",
    "        return True\n",
    "        \n",
    "\n",
    "    def uunifastdiscard(self,discard_limit = 1000):\n",
    "        sumu = self.ut\n",
    "        for j in range(discard_limit):\n",
    "            utilities = []\n",
    "            for i in range(self.n-1):\n",
    "                nextsumu = sumu*(np.random.random()**(1/(self.n-i+1)))\n",
    "                utilities.append(sumu - nextsumu)\n",
    "                sumu = nextsumu\n",
    "\n",
    "            utilities.append(sumu)\n",
    "\n",
    "            if all(ut <= 1 for ut in utilities):\n",
    "                return np.array(utilities)\n",
    "            else:\n",
    "                sumu = self.ut\n",
    "\n",
    "        return None\n",
    "    \n",
    "    def periods_generation(self):\n",
    "        periods = np.ceil(np.exp(np.random.uniform(low=np.log(self.min_period), high=np.log(self.max_period),size=(self.n))))\n",
    "        return periods\n",
    "    \n",
    "    def execution_times(self):\n",
    "        return np.ceil(self.utilities * self.periods)\n",
    "    \n",
    "    def task_deadlines(self):\n",
    "        deadline = []\n",
    "        for i in range(len(self.execution_time)):\n",
    "            deadline.append(np.random.uniform(low = self.execution_time[i] , high = self.periods[i]))\n",
    "\n",
    "        return np.floor(np.array(deadline))"
   ]
  },
  {
   "cell_type": "code",
   "execution_count": 14,
   "metadata": {},
   "outputs": [],
   "source": [
    "def DMPO(set):\n",
    "    set.sort(key = lambda x:x.deadline)"
   ]
  },
  {
   "cell_type": "code",
   "execution_count": 15,
   "metadata": {},
   "outputs": [],
   "source": [
    "def D_CMPO(taskset):\n",
    "    taskset.sort(key = lambda x:x.deadline - x.execution_time)"
   ]
  },
  {
   "cell_type": "code",
   "execution_count": 16,
   "metadata": {},
   "outputs": [],
   "source": [
    "def DkC(taskset,m):\n",
    "    k = ((m - 1) + np.sqrt(5*m**2 - 6*m + 1))/(2*m)\n",
    "    taskset.sort(key = lambda x:x.deadline - k*x.execution_time)"
   ]
  },
  {
   "cell_type": "code",
   "execution_count": 17,
   "metadata": {},
   "outputs": [],
   "source": [
    "def OPA(taskset, cores, S_test):\n",
    "    N = len(taskset)\n",
    "\n",
    "    assigned_tasks = []\n",
    "\n",
    "    taskset_copy = taskset.copy()\n",
    "\n",
    "    priority_assigned = [False] * N\n",
    "\n",
    "    for i in range(N-1,-1,-1):\n",
    "\n",
    "        for j,task in enumerate(taskset_copy):\n",
    "\n",
    "            if not priority_assigned[j]:\n",
    "                if(S_test(assigned_tasks + [task],cores)):\n",
    "                    task.priority = i\n",
    "                    priority_assigned[j] = True\n",
    "                    assigned_tasks.append(task)\n",
    "                    break\n",
    "        else:\n",
    "            return False\n",
    "            return taskset_copy,(i)/N*100\n",
    "    return True\n",
    "    return taskset_copy,100"
   ]
  },
  {
   "cell_type": "code",
   "execution_count": 18,
   "metadata": {},
   "outputs": [],
   "source": [
    "def deadline_analysis_OPA(ptaskset,m):    #taskset = {period,execution time,deadline}\n",
    "    Ck = ptaskset[-1].execution_time\n",
    "    Dk = ptaskset[-1].deadline\n",
    "    l = Dk\n",
    "    total_workload = 0\n",
    "\n",
    "    for task in ptaskset[:-1]:\n",
    "        Ti,Ci,Di = task.period,task.execution_time,task.deadline\n",
    "        max_jobs = np.floor(( l + Di - Ci )/Ti)\n",
    "        workload_task = max_jobs*Ci + min(Ci,l + Di - Ci - max_jobs*Ti)\n",
    "        workload_task = min(workload_task,Dk - Ck + 1)\n",
    "        total_workload += workload_task\n",
    "\n",
    "        thresh = Ck + np.floor(total_workload/m)\n",
    "        if Dk < thresh:\n",
    "            return 0\n",
    "    return 1"
   ]
  },
  {
   "cell_type": "code",
   "execution_count": 19,
   "metadata": {},
   "outputs": [],
   "source": [
    "def deadline_analysis(ptaskset,m):    #taskset = {period,execution time,deadline}\n",
    "    num_tasks = len(ptaskset)\n",
    "    cleared = 0\n",
    "    for k in range(num_tasks):\n",
    "        \n",
    "        total_workload = 0\n",
    "        Ck,Dk = ptaskset[k].execution_time,ptaskset[k].deadline\n",
    "        l = Dk\n",
    "        for i in range(k):\n",
    "            Ti,Ci,Di = ptaskset[i].period,ptaskset[i].execution_time,ptaskset[i].deadline\n",
    "            max_jobs = np.floor(( l + Di - Ci )/Ti)\n",
    "            workload_j = max_jobs*Ci + min(Ci,l + Di - Ci - max_jobs*Ti)\n",
    "            workload_j = min(workload_j,Dk - Ck + 1)\n",
    "            total_workload += workload_j\n",
    "\n",
    "        thresh = Ck + np.floor(total_workload/m)\n",
    "        if Dk >= thresh:\n",
    "            cleared += 1\n",
    "\n",
    "    return (cleared/num_tasks)*100"
   ]
  },
  {
   "cell_type": "code",
   "execution_count": 93,
   "metadata": {},
   "outputs": [],
   "source": [
    "def responsetimeanalysis(ptaskset,m):\n",
    "    num_tasks = len(ptaskset)\n",
    "    cleared = 0\n",
    "    for k in range(num_tasks):\n",
    "        Ck,Dk = ptaskset[k].execution_time,ptaskset[k].deadline\n",
    "        l = Dk\n",
    "        res = Ck\n",
    "        new_res = Ck\n",
    "        if k == 0:\n",
    "            if res <= Dk:\n",
    "                cleared += 1\n",
    "                continue\n",
    "               \n",
    "        else:       \n",
    "            while new_res <= Dk:\n",
    "                res = new_res\n",
    "                total_workload = 0\n",
    "                for i in range(k):\n",
    "                    Ti,Ci = ptaskset[i].period,ptaskset[i].execution_time\n",
    "                    max_jobs = np.floor(( l + res - Ci )/Ti)\n",
    "                    workload_j = max_jobs*Ci + min(Ci,l + res - Ci - max_jobs*Ti)\n",
    "                    workload_j = min(workload_j,res - Ck + 1)\n",
    "                    total_workload += workload_j\n",
    "\n",
    "                new_res = Ck + np.floor(total_workload/m)\n",
    "                if new_res - res <= 0.0001:\n",
    "                    break\n",
    "\n",
    "        if new_res <= Dk :\n",
    "            cleared += 1\n",
    "\n",
    "    return (cleared/num_tasks)*100"
   ]
  },
  {
   "cell_type": "code",
   "execution_count": 21,
   "metadata": {},
   "outputs": [],
   "source": [
    "#cores = 2\n",
    "#taskset = TaskSet(cores*5,0.6,10,100)\n",
    "#taskset.generate()\n",
    "#DMPO(taskset.tasks)\n",
    "#v = deadline_analysis(taskset.tasks,cores)\n",
    "#print(v)"
   ]
  },
  {
   "cell_type": "code",
   "execution_count": 22,
   "metadata": {},
   "outputs": [],
   "source": [
    "#cores = 2\n",
    "#ut = np.linspace(0.1,cores,20)\n",
    "#sch = []\n",
    "#for i in ut:\n",
    "#    avg = 0\n",
    "#    for j in range(1000):\n",
    "#        #print(j)\n",
    "#        taskset = TaskSet(cores*5,i,10,100)\n",
    "#        taskset.generate()\n",
    "#        DMPO(taskset.tasks)\n",
    "#        v = deadline_analysis(taskset.tasks,cores)\n",
    "#        avg += v\n",
    "#    sch.append(avg/1000)\n",
    "#plt.plot(ut,sch,label = 'DMPO') \n",
    "#sch = []\n",
    "#for i in ut:\n",
    "#    avg = 0\n",
    "#    for j in range(1000):\n",
    "#        #print(j)\n",
    "#        taskset = TaskSet(cores*5,i,10,100)\n",
    "#        taskset.generate()\n",
    "#        D_CMPO(taskset.tasks)\n",
    "#        v = deadline_analysis(taskset.tasks,cores)\n",
    "#        avg += v\n",
    "#    sch.append(avg/1000)\n",
    "#\n",
    "#\n",
    "#plt.plot(ut,sch,label = 'D_CMPO') \n",
    "#\n",
    "#sch = []\n",
    "#for i in ut:\n",
    "#    avg = 0\n",
    "#    for j in range(1000):\n",
    "#        taskset = TaskSet(cores*5,i,10,100)\n",
    "#        taskset.generate()\n",
    "#        DkC(taskset.tasks,cores)\n",
    "#        v = deadline_analysis(taskset.tasks,cores)\n",
    "#        avg += v\n",
    "#    sch.append(avg/1000)\n",
    "#\n",
    "#plt.plot(ut,sch,label = 'DkC') \n",
    "#\n",
    "#plt.legend()\n",
    "#plt.show()"
   ]
  },
  {
   "cell_type": "code",
   "execution_count": 23,
   "metadata": {},
   "outputs": [],
   "source": [
    "#cores = 2\n",
    "#ut = np.linspace(0.1,cores,25)\n",
    "#\n",
    "#sch = []\n",
    "#\n",
    "#for i in ut:\n",
    "#    #avg = 0\n",
    "#    #for j in range(1000):\n",
    "#        #print(j)\n",
    "#        taskset = TaskSet(cores*5,i,10,100)\n",
    "#        taskset.generate()\n",
    "#        DMPO(taskset.tasks)\n",
    "#        v = deadline_analysis(taskset.tasks,cores)\n",
    "#        #avg += v\n",
    "#        sch.append(v)\n",
    "#plt.plot(ut,sch,label = 'DMPO')"
   ]
  },
  {
   "cell_type": "code",
   "execution_count": 24,
   "metadata": {},
   "outputs": [],
   "source": [
    "def generate_tasksets(n_tasksets, n_tasks, max_utility, min_period, max_period):\n",
    "    set_tasksets = []\n",
    "    for i in range(n_tasksets):\n",
    "        set = TaskSet(n_tasks,max_utility,min_period,max_period)\n",
    "        set.generate()\n",
    "        set_tasksets.append(set)\n",
    "    \n",
    "    return set_tasksets"
   ]
  },
  {
   "cell_type": "code",
   "execution_count": 33,
   "metadata": {},
   "outputs": [],
   "source": [
    "set_tasksets = []\n",
    "n_tasksets = 1000\n",
    "\n",
    "cores = 2\n",
    "n_tasks = 5*cores\n",
    "min_period = 10\n",
    "max_period = 1000\n",
    "us = np.arange(0.1,cores,0.1)\n",
    "\n",
    "\n",
    "percentage_schedulable_OPA = []\n",
    "percentage_schedulable_DMPO = []\n",
    "percentage_schedulable_D_CMPO = []\n",
    "percentage_schedulable_DkC = []\n",
    "for u in us:\n",
    "    percentage_OPA = 0\n",
    "    percentage_DCMPO = 0\n",
    "    percentage_DMPO = 0\n",
    "    percentage_DkC = 0\n",
    "    set_tasksets = generate_tasksets(n_tasksets, n_tasks, u, min_period, max_period)\n",
    "    for i in range(n_tasksets):\n",
    "        set = set_tasksets[i]\n",
    "        # ordered_tasks,percentage = OPA(set.tasks, cores, deadline_analysis_OPA)\n",
    "        # percentage_OPA += percentage\n",
    "        percentage_OPA += int(OPA(set.tasks, cores, deadline_analysis_OPA))\n",
    "        \n",
    "\n",
    "        set = set_tasksets[i]\n",
    "        DMPO(set.tasks)\n",
    "        # percentage_DMPO += deadline_analysis(set.tasks,cores)\n",
    "        percentage_DMPO += int(deadline_analysis(set.tasks,cores))\n",
    "\n",
    "        set = set_tasksets[i]\n",
    "        D_CMPO(set.tasks)\n",
    "        # percentage_DCMPO += deadline_analysis(set.tasks,cores)\n",
    "        percentage_DCMPO += int(deadline_analysis(set.tasks,cores))\n",
    "\n",
    "        set = set_tasksets[i]\n",
    "        DkC(set.tasks,cores)\n",
    "        # percentage_DkC += deadline_analysis(set.tasks,cores)\n",
    "        percentage_DkC += int(deadline_analysis(set.tasks,cores))\n",
    "\n",
    "    percentage_schedulable_OPA.append(percentage_OPA/n_tasksets)\n",
    "    percentage_schedulable_DMPO.append(percentage_DMPO/n_tasksets)\n",
    "    percentage_schedulable_D_CMPO.append(percentage_DCMPO/n_tasksets)\n",
    "    percentage_schedulable_DkC.append(percentage_DkC/n_tasksets)"
   ]
  },
  {
   "cell_type": "code",
   "execution_count": 34,
   "metadata": {},
   "outputs": [
    {
     "data": {
      "text/plain": [
       "<matplotlib.legend.Legend at 0x1d4bd5b3220>"
      ]
     },
     "execution_count": 34,
     "metadata": {},
     "output_type": "execute_result"
    },
    {
     "data": {
      "image/png": "[encoded data removed]",
      "text/plain": [
       "<Figure size 432x288 with 1 Axes>"
      ]
     },
     "metadata": {
      "needs_background": "light"
     },
     "output_type": "display_data"
    }
   ],
   "source": [
    "plt.figure()\n",
    "plt.plot(us,percentage_schedulable_OPA,color='r',label='OPA')\n",
    "plt.plot(us,percentage_schedulable_DMPO,color='b',label='DMPO')\n",
    "plt.plot(us,percentage_schedulable_D_CMPO,color='g',label='D_CMPO')\n",
    "plt.plot(us,percentage_schedulable_DkC,color='y',label='DkC',linestyle='-')\n",
    "plt.legend()"
   ]
  },
  {
   "cell_type": "code",
   "execution_count": 96,
   "metadata": {},
   "outputs": [],
   "source": [
    "set_tasksets = []\n",
    "n_tasksets = 100\n",
    "\n",
    "cores = 2\n",
    "n_tasks = 5*cores\n",
    "min_period = 10\n",
    "max_period = 1000\n",
    "us = np.arange(0.1,2,0.1)\n",
    "\n",
    "\n",
    "percentage_schedulable_OPA = []\n",
    "percentage_schedulable_DMPO = []\n",
    "percentage_schedulable_D_CMPO = []\n",
    "percentage_schedulable_DkC = []\n",
    "for u in us:\n",
    "    percentage_OPA = 0\n",
    "    percentage_DCMPO = 0\n",
    "    percentage_DMPO = 0\n",
    "    percentage_DkC = 0\n",
    "    set_tasksets = generate_tasksets(n_tasksets, n_tasks, u, min_period, max_period)\n",
    "    for i in range(n_tasksets):\n",
    "        \n",
    "\n",
    "        set = set_tasksets[i]\n",
    "        DMPO(set.tasks)\n",
    "        percentage_DMPO += responsetimeanalysis(set.tasks,cores)\n",
    "\n",
    "        set = set_tasksets[i]\n",
    "        D_CMPO(set.tasks)\n",
    "        percentage_DCMPO += responsetimeanalysis(set.tasks,cores)\n",
    "\n",
    "        set = set_tasksets[i]\n",
    "        DkC(set.tasks,cores)\n",
    "        percentage_DkC += responsetimeanalysis(set.tasks,cores)\n",
    "\n",
    "    # percentage_schedulable_OPA.append(percentage_OPA/n_tasksets)\n",
    "    percentage_schedulable_DMPO.append(percentage_DMPO/n_tasksets)\n",
    "    percentage_schedulable_D_CMPO.append(percentage_DCMPO/n_tasksets)\n",
    "    percentage_schedulable_DkC.append(percentage_DkC/n_tasksets)\n",
    "        "
   ]
  },
  {
   "cell_type": "code",
   "execution_count": 97,
   "metadata": {},
   "outputs": [
    {
     "data": {
      "text/plain": [
       "<matplotlib.legend.Legend at 0x1d4c0846200>"
      ]
     },
     "execution_count": 97,
     "metadata": {},
     "output_type": "execute_result"
    },
    {
     "data": {
      "image/png": "[encoded data removed]",
      "text/plain": [
       "<Figure size 432x288 with 1 Axes>"
      ]
     },
     "metadata": {
      "needs_background": "light"
     },
     "output_type": "display_data"
    }
   ],
   "source": [
    "plt.figure()\n",
    "plt.plot(us,percentage_schedulable_DMPO,color='b',label='DMPO')\n",
    "plt.plot(us,percentage_schedulable_D_CMPO,color='g',label='D_CMPO')\n",
    "plt.plot(us,percentage_schedulable_DkC,color='y',label='DkC',linestyle='-')\n",
    "plt.legend()"
   ]
  },
  {
   "cell_type": "code",
   "execution_count": 58,
   "metadata": {},
   "outputs": [
    {
     "name": "stdout",
     "output_type": "stream",
     "text": [
      "[Task: 14.0 1.0 9.0 None, Task: 12.0 1.0 8.0 None, Task: 15.0 1.0 12.0 None, Task: 64.0 2.0 32.0 None, Task: 39.0 1.0 9.0 None, Task: 34.0 1.0 23.0 None, Task: 16.0 1.0 9.0 None, Task: 83.0 1.0 44.0 None, Task: 15.0 1.0 1.0 None, Task: 34.0 2.0 5.0 None]\n"
     ]
    }
   ],
   "source": [
    "cores = 2\n",
    "set = TaskSet(cores*5,0.2,10,100)\n",
    "\n",
    "set.generate()\n",
    "print(set.tasks)"
   ]
  },
  {
   "cell_type": "code",
   "execution_count": 69,
   "metadata": {},
   "outputs": [
    {
     "name": "stdout",
     "output_type": "stream",
     "text": [
      "90.0\n"
     ]
    }
   ],
   "source": [
    "x = responsetimeanalysis(set.tasks,cores)\n",
    "print(x)"
   ]
  }
 ],
 "metadata": {
  "kernelspec": {
   "display_name": "Python 3.10.8 64-bit",
   "language": "python",
   "name": "python3"
  },
  "language_info": {
   "codemirror_mode": {
    "name": "ipython",
    "version": 3
   },
   "file_extension": ".py",
   "mimetype": "text/x-python",
   "name": "python",
   "nbconvert_exporter": "python",
   "pygments_lexer": "ipython3",
   "version": "3.10.8"
  },
  "orig_nbformat": 4,
  "vscode": {
   "interpreter": {
    "hash": "7157a62e85b7b4197c3acc922ce8503cad50f92a7c60c9bc670f81ada39c5d0f"
   }
  }
 },
 "nbformat": 4,
 "nbformat_minor": 2
}
